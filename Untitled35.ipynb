{
 "cells": [
  {
   "cell_type": "code",
   "execution_count": 3,
   "id": "1bc89d67",
   "metadata": {},
   "outputs": [
    {
     "name": "stdout",
     "output_type": "stream",
     "text": [
      "[(0, 'elma')]\n",
      "[(0, 'elma'), (1, 'armut')]\n",
      "[(0, 'elma'), (1, 'armut'), (2, 'muz')]\n",
      "[(0, 'elma'), (1, 'armut'), (2, 'muz'), (3, 'kiraz')]\n"
     ]
    }
   ],
   "source": [
    "liste=[\"elma\",\"armut\",\"muz\",\"kiraz\"]\n",
    "\n",
    "\n",
    "i=0\n",
    "sonuç=list()\n",
    "\n",
    "while(i<len(liste)):\n",
    "    \n",
    "    sonuç.append((i,liste[i]))\n",
    "    \n",
    "    \n",
    "    i+=1\n",
    "    print(sonuç)"
   ]
  },
  {
   "cell_type": "code",
   "execution_count": 4,
   "id": "a9e2e4a9",
   "metadata": {},
   "outputs": [
    {
     "data": {
      "text/plain": [
       "[(0, 'elma'), (1, 'armut'), (2, 'muz'), (3, 'kiraz')]"
      ]
     },
     "execution_count": 4,
     "metadata": {},
     "output_type": "execute_result"
    }
   ],
   "source": [
    "liste=[\"elma\",\"armut\",\"muz\",\"kiraz\"]\n",
    "list(enumerate(liste))"
   ]
  },
  {
   "cell_type": "code",
   "execution_count": 5,
   "id": "338732fb",
   "metadata": {},
   "outputs": [
    {
     "data": {
      "text/plain": [
       "[(0, 'a'), (1, 'b'), (2, 'c'), (3, 'd'), (4, 'e'), (5, 'f'), (6, 'g')]"
      ]
     },
     "execution_count": 5,
     "metadata": {},
     "output_type": "execute_result"
    }
   ],
   "source": [
    "liste=[\"a\",\"b\",\"c\",\"d\",\"e\",\"f\",\"g\"]\n",
    "list(enumerate(liste))"
   ]
  },
  {
   "cell_type": "code",
   "execution_count": 7,
   "id": "d1d6731b",
   "metadata": {},
   "outputs": [
    {
     "name": "stdout",
     "output_type": "stream",
     "text": [
      "Eleman: a\n",
      "Eleman: c\n",
      "Eleman: e\n",
      "Eleman: g\n"
     ]
    }
   ],
   "source": [
    "liste=[\"a\",\"b\",\"c\",\"d\",\"e\",\"f\",\"g\"]\n",
    "\n",
    "for index,eleman in  enumerate(liste):\n",
    "    if(index%2==0):\n",
    "        print(\"Eleman:\",eleman)"
   ]
  },
  {
   "cell_type": "code",
   "execution_count": null,
   "id": "a1071c9e",
   "metadata": {},
   "outputs": [],
   "source": []
  }
 ],
 "metadata": {
  "kernelspec": {
   "display_name": "Python 3 (ipykernel)",
   "language": "python",
   "name": "python3"
  },
  "language_info": {
   "codemirror_mode": {
    "name": "ipython",
    "version": 3
   },
   "file_extension": ".py",
   "mimetype": "text/x-python",
   "name": "python",
   "nbconvert_exporter": "python",
   "pygments_lexer": "ipython3",
   "version": "3.9.12"
  }
 },
 "nbformat": 4,
 "nbformat_minor": 5
}
