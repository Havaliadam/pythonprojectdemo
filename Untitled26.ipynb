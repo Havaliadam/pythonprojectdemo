{
 "cells": [
  {
   "cell_type": "code",
   "execution_count": 1,
   "id": "70bcbc1a",
   "metadata": {},
   "outputs": [],
   "source": [
    "def selamla(isim):\n",
    "    print(\"Selam:\",isim)"
   ]
  },
  {
   "cell_type": "code",
   "execution_count": 2,
   "id": "b21c4d93",
   "metadata": {},
   "outputs": [
    {
     "name": "stdout",
     "output_type": "stream",
     "text": [
      "Selam: murat\n"
     ]
    }
   ],
   "source": [
    "selamla(\"murat\")"
   ]
  },
  {
   "cell_type": "code",
   "execution_count": 3,
   "id": "266d48e6",
   "metadata": {},
   "outputs": [
    {
     "name": "stdout",
     "output_type": "stream",
     "text": [
      "Selam: serhat\n"
     ]
    }
   ],
   "source": [
    "selamla(\"serhat\")"
   ]
  },
  {
   "cell_type": "code",
   "execution_count": 4,
   "id": "677478a2",
   "metadata": {},
   "outputs": [
    {
     "ename": "TypeError",
     "evalue": "selamla() missing 1 required positional argument: 'isim'",
     "output_type": "error",
     "traceback": [
      "\u001b[1;31m---------------------------------------------------------------------------\u001b[0m",
      "\u001b[1;31mTypeError\u001b[0m                                 Traceback (most recent call last)",
      "Input \u001b[1;32mIn [4]\u001b[0m, in \u001b[0;36m<cell line: 1>\u001b[1;34m()\u001b[0m\n\u001b[1;32m----> 1\u001b[0m \u001b[43mselamla\u001b[49m\u001b[43m(\u001b[49m\u001b[43m)\u001b[49m\n",
      "\u001b[1;31mTypeError\u001b[0m: selamla() missing 1 required positional argument: 'isim'"
     ]
    }
   ],
   "source": [
    "selamla()"
   ]
  },
  {
   "cell_type": "code",
   "execution_count": 5,
   "id": "cad53b09",
   "metadata": {},
   "outputs": [],
   "source": [
    "def selamla(isim=\"isminiz\"):\n",
    "    print(\"Selam:\",isim)"
   ]
  },
  {
   "cell_type": "code",
   "execution_count": 6,
   "id": "7d187a5a",
   "metadata": {},
   "outputs": [
    {
     "name": "stdout",
     "output_type": "stream",
     "text": [
      "Selam: isminiz\n"
     ]
    }
   ],
   "source": [
    "selamla()"
   ]
  },
  {
   "cell_type": "code",
   "execution_count": 7,
   "id": "d46e0b6a",
   "metadata": {},
   "outputs": [
    {
     "name": "stdout",
     "output_type": "stream",
     "text": [
      "Selam: Serhat\n"
     ]
    }
   ],
   "source": [
    "selamla(\"Serhat\")\n"
   ]
  },
  {
   "cell_type": "code",
   "execution_count": 10,
   "id": "9621a5d6",
   "metadata": {},
   "outputs": [],
   "source": [
    "def bilgilerigöster(ad=\"bilgi yok\",soyad=\"bilgi yok\",numara=\"bilgi yok\"):\n",
    "    print(\"Ad:\",ad,\"soyad:\",soyad,\"numara\",numara)"
   ]
  },
  {
   "cell_type": "code",
   "execution_count": 9,
   "id": "10b55602",
   "metadata": {},
   "outputs": [
    {
     "name": "stdout",
     "output_type": "stream",
     "text": [
      "Ad: ayhan soyad: celik numara bilgi yok\n"
     ]
    }
   ],
   "source": [
    "bilgilerigöster(\"ayhan\",\"celik\")"
   ]
  },
  {
   "cell_type": "code",
   "execution_count": 11,
   "id": "8627ab18",
   "metadata": {},
   "outputs": [
    {
     "name": "stdout",
     "output_type": "stream",
     "text": [
      "Ad: bilgi yok soyad: bilgi yok numara 12345\n"
     ]
    }
   ],
   "source": [
    "bilgilerigöster(numara=\"12345\")"
   ]
  },
  {
   "cell_type": "code",
   "execution_count": 12,
   "id": "67951d01",
   "metadata": {},
   "outputs": [
    {
     "name": "stdout",
     "output_type": "stream",
     "text": [
      "Ad: ayhan soyad: bilgi yok numara 12345\n"
     ]
    }
   ],
   "source": [
    "bilgilerigöster(ad=\"ayhan\",numara=\"12345\")"
   ]
  },
  {
   "cell_type": "code",
   "execution_count": 13,
   "id": "2d64121c",
   "metadata": {},
   "outputs": [
    {
     "name": "stdout",
     "output_type": "stream",
     "text": [
      "ayhan çelik\n"
     ]
    }
   ],
   "source": [
    "print(\"ayhan çelik\")"
   ]
  },
  {
   "cell_type": "code",
   "execution_count": 15,
   "id": "d1a8564d",
   "metadata": {},
   "outputs": [
    {
     "name": "stdout",
     "output_type": "stream",
     "text": [
      "ayhan/celik\n"
     ]
    }
   ],
   "source": [
    "print(\"ayhan\", \"celik\",sep=\"/\")"
   ]
  },
  {
   "cell_type": "code",
   "execution_count": 16,
   "id": "92d96f4e",
   "metadata": {},
   "outputs": [
    {
     "name": "stdout",
     "output_type": "stream",
     "text": [
      "Help on built-in function print in module builtins:\n",
      "\n",
      "print(...)\n",
      "    print(value, ..., sep=' ', end='\\n', file=sys.stdout, flush=False)\n",
      "    \n",
      "    Prints the values to a stream, or to sys.stdout by default.\n",
      "    Optional keyword arguments:\n",
      "    file:  a file-like object (stream); defaults to the current sys.stdout.\n",
      "    sep:   string inserted between values, default a space.\n",
      "    end:   string appended after the last value, default a newline.\n",
      "    flush: whether to forcibly flush the stream.\n",
      "\n"
     ]
    }
   ],
   "source": [
    "help(print)"
   ]
  },
  {
   "cell_type": "code",
   "execution_count": 17,
   "id": "5628fac6",
   "metadata": {},
   "outputs": [],
   "source": [
    "def toplama(a,b,c):\n",
    "    print(a+b+c)"
   ]
  },
  {
   "cell_type": "code",
   "execution_count": 18,
   "id": "468aecb4",
   "metadata": {},
   "outputs": [
    {
     "name": "stdout",
     "output_type": "stream",
     "text": [
      "12\n"
     ]
    }
   ],
   "source": [
    "toplama(3,4,5)"
   ]
  },
  {
   "cell_type": "code",
   "execution_count": 19,
   "id": "89f17b9b",
   "metadata": {},
   "outputs": [
    {
     "ename": "TypeError",
     "evalue": "toplama() takes 3 positional arguments but 4 were given",
     "output_type": "error",
     "traceback": [
      "\u001b[1;31m---------------------------------------------------------------------------\u001b[0m",
      "\u001b[1;31mTypeError\u001b[0m                                 Traceback (most recent call last)",
      "Input \u001b[1;32mIn [19]\u001b[0m, in \u001b[0;36m<cell line: 1>\u001b[1;34m()\u001b[0m\n\u001b[1;32m----> 1\u001b[0m \u001b[43mtoplama\u001b[49m\u001b[43m(\u001b[49m\u001b[38;5;241;43m3\u001b[39;49m\u001b[43m,\u001b[49m\u001b[38;5;241;43m4\u001b[39;49m\u001b[43m,\u001b[49m\u001b[38;5;241;43m5\u001b[39;49m\u001b[43m,\u001b[49m\u001b[38;5;241;43m6\u001b[39;49m\u001b[43m)\u001b[49m\n",
      "\u001b[1;31mTypeError\u001b[0m: toplama() takes 3 positional arguments but 4 were given"
     ]
    }
   ],
   "source": [
    "toplama(3,4,5,6)"
   ]
  },
  {
   "cell_type": "code",
   "execution_count": 20,
   "id": "78e40ad9",
   "metadata": {},
   "outputs": [],
   "source": [
    "def toplama(a,b,c,d):\n",
    "    print(a+b+c+d)"
   ]
  },
  {
   "cell_type": "code",
   "execution_count": 21,
   "id": "90772da7",
   "metadata": {},
   "outputs": [
    {
     "name": "stdout",
     "output_type": "stream",
     "text": [
      "22\n"
     ]
    }
   ],
   "source": [
    "toplama(4,5,6,7)"
   ]
  },
  {
   "cell_type": "code",
   "execution_count": 22,
   "id": "41a4584e",
   "metadata": {},
   "outputs": [
    {
     "ename": "TypeError",
     "evalue": "toplama() missing 1 required positional argument: 'd'",
     "output_type": "error",
     "traceback": [
      "\u001b[1;31m---------------------------------------------------------------------------\u001b[0m",
      "\u001b[1;31mTypeError\u001b[0m                                 Traceback (most recent call last)",
      "Input \u001b[1;32mIn [22]\u001b[0m, in \u001b[0;36m<cell line: 1>\u001b[1;34m()\u001b[0m\n\u001b[1;32m----> 1\u001b[0m \u001b[43mtoplama\u001b[49m\u001b[43m(\u001b[49m\u001b[38;5;241;43m3\u001b[39;49m\u001b[43m,\u001b[49m\u001b[38;5;241;43m4\u001b[39;49m\u001b[43m,\u001b[49m\u001b[38;5;241;43m5\u001b[39;49m\u001b[43m)\u001b[49m\n",
      "\u001b[1;31mTypeError\u001b[0m: toplama() missing 1 required positional argument: 'd'"
     ]
    }
   ],
   "source": [
    "toplama(3,4,5)"
   ]
  },
  {
   "cell_type": "code",
   "execution_count": 23,
   "id": "5ca8c4c1",
   "metadata": {},
   "outputs": [],
   "source": [
    "def toplama(*parametreler):\n",
    "    toplam=0\n",
    "    print(\"parametreler\",parametreler)\n",
    "    for i in parametreler:\n",
    "        toplam+=i\n",
    "        return toplam"
   ]
  },
  {
   "cell_type": "code",
   "execution_count": 26,
   "id": "ed3c44b5",
   "metadata": {},
   "outputs": [
    {
     "name": "stdout",
     "output_type": "stream",
     "text": [
      "parametreler (3, 4, 5, 6, 7, 8, 9, 10)\n",
      "3\n"
     ]
    }
   ],
   "source": [
    "print(toplama(3,4,5,6,7,8,9,10))"
   ]
  },
  {
   "cell_type": "code",
   "execution_count": 28,
   "id": "811ed9c5",
   "metadata": {},
   "outputs": [
    {
     "name": "stdout",
     "output_type": "stream",
     "text": [
      "parametreler ()\n",
      "None\n"
     ]
    }
   ],
   "source": [
    "print(toplama())"
   ]
  },
  {
   "cell_type": "code",
   "execution_count": 29,
   "id": "670fe556",
   "metadata": {},
   "outputs": [
    {
     "name": "stdout",
     "output_type": "stream",
     "text": [
      "parametreler (1, 2, 3)\n",
      "1\n"
     ]
    }
   ],
   "source": [
    "print(toplama(1,2,3))"
   ]
  },
  {
   "cell_type": "code",
   "execution_count": 30,
   "id": "5fae3c2d",
   "metadata": {},
   "outputs": [
    {
     "name": "stdout",
     "output_type": "stream",
     "text": [
      "3 4 5 6\n"
     ]
    }
   ],
   "source": [
    "print(3,4,5,6)"
   ]
  },
  {
   "cell_type": "code",
   "execution_count": 31,
   "id": "224dd9f9",
   "metadata": {},
   "outputs": [
    {
     "name": "stdout",
     "output_type": "stream",
     "text": [
      "elma Armut\n"
     ]
    }
   ],
   "source": [
    "print(\"elma\",\"Armut\")"
   ]
  },
  {
   "cell_type": "code",
   "execution_count": null,
   "id": "69d6d48a",
   "metadata": {},
   "outputs": [],
   "source": []
  }
 ],
 "metadata": {
  "kernelspec": {
   "display_name": "Python 3 (ipykernel)",
   "language": "python",
   "name": "python3"
  },
  "language_info": {
   "codemirror_mode": {
    "name": "ipython",
    "version": 3
   },
   "file_extension": ".py",
   "mimetype": "text/x-python",
   "name": "python",
   "nbconvert_exporter": "python",
   "pygments_lexer": "ipython3",
   "version": "3.9.12"
  }
 },
 "nbformat": 4,
 "nbformat_minor": 5
}
