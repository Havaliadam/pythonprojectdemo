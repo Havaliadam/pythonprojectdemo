{
 "cells": [
  {
   "cell_type": "code",
   "execution_count": 2,
   "id": "6a9c10fa",
   "metadata": {},
   "outputs": [
    {
     "name": "stdout",
     "output_type": "stream",
     "text": [
      "[2]\n",
      "[2, 4]\n",
      "[2, 4, 6]\n",
      "[2, 4, 6, 8]\n",
      "[2, 4, 6, 8, 10]\n"
     ]
    }
   ],
   "source": [
    "liste1=[1,2,3,4,5]\n",
    "liste2=list()\n",
    "for i in liste1:\n",
    "    liste2.append(i*2)\n",
    "    print(liste2)"
   ]
  },
  {
   "cell_type": "code",
   "execution_count": 3,
   "id": "3cc36105",
   "metadata": {},
   "outputs": [
    {
     "name": "stdout",
     "output_type": "stream",
     "text": [
      "[2, 4, 6, 8, 10]\n"
     ]
    }
   ],
   "source": [
    "liste3=[1,2,3,4,5]\n",
    "liste4=[i*2 for i in liste3]\n",
    "print(liste4)"
   ]
  },
  {
   "cell_type": "code",
   "execution_count": 4,
   "id": "e2600c56",
   "metadata": {},
   "outputs": [],
   "source": [
    "def ikiyleçarp(x):\n",
    "    return x*2"
   ]
  },
  {
   "cell_type": "code",
   "execution_count": 5,
   "id": "b344e6f3",
   "metadata": {},
   "outputs": [
    {
     "name": "stdout",
     "output_type": "stream",
     "text": [
      "4\n"
     ]
    }
   ],
   "source": [
    "print(ikiyleçarp(2))"
   ]
  },
  {
   "cell_type": "code",
   "execution_count": 6,
   "id": "a06eb49f",
   "metadata": {},
   "outputs": [],
   "source": [
    "ikiyleçarp=lambda x:x*2"
   ]
  },
  {
   "cell_type": "code",
   "execution_count": 7,
   "id": "b5a795a2",
   "metadata": {},
   "outputs": [
    {
     "data": {
      "text/plain": [
       "6"
      ]
     },
     "execution_count": 7,
     "metadata": {},
     "output_type": "execute_result"
    }
   ],
   "source": [
    "ikiyleçarp(3)"
   ]
  },
  {
   "cell_type": "code",
   "execution_count": 8,
   "id": "2f8f18b8",
   "metadata": {},
   "outputs": [],
   "source": [
    "def toplama(a,b,c):\n",
    "    return a+b+c"
   ]
  },
  {
   "cell_type": "code",
   "execution_count": 9,
   "id": "8dcff4b6",
   "metadata": {},
   "outputs": [
    {
     "name": "stdout",
     "output_type": "stream",
     "text": [
      "12\n"
     ]
    }
   ],
   "source": [
    "print(toplama(3,4,5))"
   ]
  },
  {
   "cell_type": "code",
   "execution_count": 10,
   "id": "6498a5e5",
   "metadata": {},
   "outputs": [],
   "source": [
    "topla=lambda x,y,z:x+y+z"
   ]
  },
  {
   "cell_type": "code",
   "execution_count": 11,
   "id": "9c5c0c60",
   "metadata": {},
   "outputs": [
    {
     "name": "stdout",
     "output_type": "stream",
     "text": [
      "12\n"
     ]
    }
   ],
   "source": [
    "print(topla(3,4,5))"
   ]
  },
  {
   "cell_type": "code",
   "execution_count": 12,
   "id": "f0cbe822",
   "metadata": {},
   "outputs": [],
   "source": [
    "def terscevir(s):\n",
    "    return s[::-1]"
   ]
  },
  {
   "cell_type": "code",
   "execution_count": 13,
   "id": "905f4fc8",
   "metadata": {},
   "outputs": [
    {
     "name": "stdout",
     "output_type": "stream",
     "text": [
      "amalmargorp nohtyp\n"
     ]
    }
   ],
   "source": [
    "print(terscevir(\"python programlama\"))"
   ]
  },
  {
   "cell_type": "code",
   "execution_count": 14,
   "id": "7561fcab",
   "metadata": {},
   "outputs": [],
   "source": [
    "terscevir =lambda s: s[::-1]"
   ]
  },
  {
   "cell_type": "code",
   "execution_count": 15,
   "id": "d49e1768",
   "metadata": {},
   "outputs": [
    {
     "name": "stdout",
     "output_type": "stream",
     "text": [
      "amalmargorp nohtyp\n"
     ]
    }
   ],
   "source": [
    "print(terscevir(\"python programlama\"))"
   ]
  },
  {
   "cell_type": "code",
   "execution_count": 16,
   "id": "a1f35725",
   "metadata": {},
   "outputs": [],
   "source": [
    "def çiftmi(sayı):\n",
    "    return (sayı%2==0)"
   ]
  },
  {
   "cell_type": "code",
   "execution_count": 17,
   "id": "70b1670d",
   "metadata": {},
   "outputs": [
    {
     "name": "stdout",
     "output_type": "stream",
     "text": [
      "True\n"
     ]
    }
   ],
   "source": [
    "print(çiftmi(12))"
   ]
  },
  {
   "cell_type": "code",
   "execution_count": 18,
   "id": "8dc4c91b",
   "metadata": {},
   "outputs": [
    {
     "name": "stdout",
     "output_type": "stream",
     "text": [
      "False\n"
     ]
    }
   ],
   "source": [
    "print(çiftmi(15))"
   ]
  },
  {
   "cell_type": "code",
   "execution_count": 19,
   "id": "7f5831ac",
   "metadata": {},
   "outputs": [],
   "source": [
    "çifttek=lambda sayı:sayı%2==0"
   ]
  },
  {
   "cell_type": "code",
   "execution_count": 20,
   "id": "405ff593",
   "metadata": {},
   "outputs": [
    {
     "data": {
      "text/plain": [
       "True"
      ]
     },
     "execution_count": 20,
     "metadata": {},
     "output_type": "execute_result"
    }
   ],
   "source": [
    "çifttek(34)"
   ]
  },
  {
   "cell_type": "code",
   "execution_count": 21,
   "id": "11657b5c",
   "metadata": {},
   "outputs": [
    {
     "data": {
      "text/plain": [
       "False"
      ]
     },
     "execution_count": 21,
     "metadata": {},
     "output_type": "execute_result"
    }
   ],
   "source": [
    "çifttek(33)"
   ]
  },
  {
   "cell_type": "code",
   "execution_count": null,
   "id": "540436d4",
   "metadata": {},
   "outputs": [],
   "source": []
  }
 ],
 "metadata": {
  "kernelspec": {
   "display_name": "Python 3 (ipykernel)",
   "language": "python",
   "name": "python3"
  },
  "language_info": {
   "codemirror_mode": {
    "name": "ipython",
    "version": 3
   },
   "file_extension": ".py",
   "mimetype": "text/x-python",
   "name": "python",
   "nbconvert_exporter": "python",
   "pygments_lexer": "ipython3",
   "version": "3.9.12"
  }
 },
 "nbformat": 4,
 "nbformat_minor": 5
}
