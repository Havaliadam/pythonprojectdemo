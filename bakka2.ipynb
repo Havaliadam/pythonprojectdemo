{
 "cells": [
  {
   "cell_type": "code",
   "execution_count": 1,
   "metadata": {},
   "outputs": [
    {
     "name": "stdout",
     "output_type": "stream",
     "text": [
      "Collecting mlxtend\n",
      "  Using cached mlxtend-0.21.0-py2.py3-none-any.whl (1.3 MB)\n",
      "Requirement already satisfied: matplotlib>=3.0.0 in c:\\users\\ayhan\\appdata\\local\\packages\\pythonsoftwarefoundation.python.3.10_qbz5n2kfra8p0\\localcache\\local-packages\\python310\\site-packages (from mlxtend) (3.5.3)\n",
      "Requirement already satisfied: setuptools in c:\\users\\ayhan\\appdata\\local\\packages\\pythonsoftwarefoundation.python.3.10_qbz5n2kfra8p0\\localcache\\local-packages\\python310\\site-packages (from mlxtend) (59.8.0)\n",
      "Requirement already satisfied: numpy>=1.16.2 in c:\\users\\ayhan\\appdata\\local\\packages\\pythonsoftwarefoundation.python.3.10_qbz5n2kfra8p0\\localcache\\local-packages\\python310\\site-packages (from mlxtend) (1.23.2)\n",
      "Requirement already satisfied: pandas>=0.24.2 in c:\\users\\ayhan\\appdata\\local\\packages\\pythonsoftwarefoundation.python.3.10_qbz5n2kfra8p0\\localcache\\local-packages\\python310\\site-packages (from mlxtend) (1.4.4)\n",
      "Requirement already satisfied: joblib>=0.13.2 in c:\\users\\ayhan\\appdata\\local\\packages\\pythonsoftwarefoundation.python.3.10_qbz5n2kfra8p0\\localcache\\local-packages\\python310\\site-packages (from mlxtend) (1.1.0)\n",
      "Requirement already satisfied: scikit-learn>=1.0.2 in c:\\users\\ayhan\\appdata\\local\\packages\\pythonsoftwarefoundation.python.3.10_qbz5n2kfra8p0\\localcache\\local-packages\\python310\\site-packages (from mlxtend) (1.1.2)\n",
      "Requirement already satisfied: scipy>=1.2.1 in c:\\users\\ayhan\\appdata\\local\\packages\\pythonsoftwarefoundation.python.3.10_qbz5n2kfra8p0\\localcache\\local-packages\\python310\\site-packages (from mlxtend) (1.9.1)\n",
      "Requirement already satisfied: kiwisolver>=1.0.1 in c:\\users\\ayhan\\appdata\\local\\packages\\pythonsoftwarefoundation.python.3.10_qbz5n2kfra8p0\\localcache\\local-packages\\python310\\site-packages (from matplotlib>=3.0.0->mlxtend) (1.4.4)\n",
      "Requirement already satisfied: pyparsing>=2.2.1 in c:\\users\\ayhan\\appdata\\local\\packages\\pythonsoftwarefoundation.python.3.10_qbz5n2kfra8p0\\localcache\\local-packages\\python310\\site-packages (from matplotlib>=3.0.0->mlxtend) (3.0.9)\n",
      "Requirement already satisfied: fonttools>=4.22.0 in c:\\users\\ayhan\\appdata\\local\\packages\\pythonsoftwarefoundation.python.3.10_qbz5n2kfra8p0\\localcache\\local-packages\\python310\\site-packages (from matplotlib>=3.0.0->mlxtend) (4.37.1)\n",
      "Requirement already satisfied: pillow>=6.2.0 in c:\\users\\ayhan\\appdata\\local\\packages\\pythonsoftwarefoundation.python.3.10_qbz5n2kfra8p0\\localcache\\local-packages\\python310\\site-packages (from matplotlib>=3.0.0->mlxtend) (9.2.0)\n",
      "Requirement already satisfied: python-dateutil>=2.7 in c:\\users\\ayhan\\appdata\\local\\packages\\pythonsoftwarefoundation.python.3.10_qbz5n2kfra8p0\\localcache\\local-packages\\python310\\site-packages (from matplotlib>=3.0.0->mlxtend) (2.8.2)\n",
      "Requirement already satisfied: cycler>=0.10 in c:\\users\\ayhan\\appdata\\local\\packages\\pythonsoftwarefoundation.python.3.10_qbz5n2kfra8p0\\localcache\\local-packages\\python310\\site-packages (from matplotlib>=3.0.0->mlxtend) (0.11.0)\n",
      "Requirement already satisfied: packaging>=20.0 in c:\\users\\ayhan\\appdata\\local\\packages\\pythonsoftwarefoundation.python.3.10_qbz5n2kfra8p0\\localcache\\local-packages\\python310\\site-packages (from matplotlib>=3.0.0->mlxtend) (21.3)\n",
      "Requirement already satisfied: pytz>=2020.1 in c:\\users\\ayhan\\appdata\\local\\packages\\pythonsoftwarefoundation.python.3.10_qbz5n2kfra8p0\\localcache\\local-packages\\python310\\site-packages (from pandas>=0.24.2->mlxtend) (2022.2.1)\n",
      "Requirement already satisfied: threadpoolctl>=2.0.0 in c:\\users\\ayhan\\appdata\\local\\packages\\pythonsoftwarefoundation.python.3.10_qbz5n2kfra8p0\\localcache\\local-packages\\python310\\site-packages (from scikit-learn>=1.0.2->mlxtend) (3.1.0)\n",
      "Requirement already satisfied: six>=1.5 in c:\\users\\ayhan\\appdata\\local\\packages\\pythonsoftwarefoundation.python.3.10_qbz5n2kfra8p0\\localcache\\local-packages\\python310\\site-packages (from python-dateutil>=2.7->matplotlib>=3.0.0->mlxtend) (1.16.0)\n",
      "Installing collected packages: mlxtend\n",
      "Successfully installed mlxtend-0.21.0\n",
      "Note: you may need to restart the kernel to use updated packages.\n"
     ]
    }
   ],
   "source": [
    "pip install mlxtend"
   ]
  },
  {
   "cell_type": "code",
   "execution_count": 13,
   "metadata": {},
   "outputs": [],
   "source": [
    "import pandas as pd \n",
    "from mlxtend.preprocessing import  TransactionEncoder\n",
    "from mlxtend.frequent_patterns import apriori,association_rules\n",
    "data=pd.read_csv(\"C:/Users/ayhan/Desktop/Bakkal.csv\",header=None)\n",
    "\n",
    "veri=data.copy()\n",
    "veri.columns=[\"Ürün\"]\n",
    "veri=list(veri[\"Ürün\"].apply(lambda x:x.split(\",\")))\n"
   ]
  },
  {
   "cell_type": "code",
   "execution_count": 14,
   "metadata": {},
   "outputs": [
    {
     "name": "stdout",
     "output_type": "stream",
     "text": [
      "    BISCUIT  BOURNVITA  BREAD   COCK  COFFEE  ...    JAM  MAGGI   MILK  SUGER    TEA\n",
      "0      True      False   True  False   False  ...  False  False   True  False  False\n",
      "1      True      False   True  False   False  ...  False  False   True  False  False\n",
      "2     False       True   True  False   False  ...  False  False  False  False   True\n",
      "3     False      False   True  False   False  ...   True   True   True  False  False\n",
      "4      True      False  False  False   False  ...  False   True  False  False   True\n",
      "5     False       True   True  False   False  ...  False  False  False  False   True\n",
      "6     False      False  False  False   False  ...  False   True  False  False   True\n",
      "7      True      False   True  False   False  ...  False   True  False  False   True\n",
      "8     False      False   True  False   False  ...   True   True  False  False   True\n",
      "9     False      False   True  False   False  ...  False  False   True  False  False\n",
      "10     True      False  False   True    True  ...  False  False  False  False  False\n",
      "11     True      False  False   True    True  ...  False  False  False  False  False\n",
      "12    False       True  False  False    True  ...  False  False  False   True  False\n",
      "13    False      False   True   True    True  ...  False  False  False  False  False\n",
      "14     True      False   True  False   False  ...  False  False  False   True  False\n",
      "15    False      False  False  False    True  ...  False  False  False   True  False\n",
      "16    False       True   True  False   False  ...  False  False  False   True  False\n",
      "17    False      False   True  False    True  ...  False  False  False   True  False\n",
      "18    False      False   True  False    True  ...  False  False  False   True  False\n",
      "19    False      False  False  False    True  ...  False  False   True  False   True\n",
      "\n",
      "[20 rows x 11 columns]\n"
     ]
    }
   ],
   "source": [
    "te=TransactionEncoder()\n",
    "teveri=te.fit_transform(veri)\n",
    "veri=pd.DataFrame(teveri,columns=te.columns_)\n",
    "print(veri)\n"
   ]
  },
  {
   "cell_type": "code",
   "execution_count": 15,
   "metadata": {},
   "outputs": [
    {
     "name": "stdout",
     "output_type": "stream",
     "text": [
      "    support                             itemsets\n",
      "0      0.35                            (BISCUIT)\n",
      "1      0.20                          (BOURNVITA)\n",
      "2      0.65                              (BREAD)\n",
      "3      0.15                               (COCK)\n",
      "4      0.40                             (COFFEE)\n",
      "..      ...                                  ...\n",
      "78     0.05         (BISCUIT, TEA, BREAD, MAGGI)\n",
      "79     0.10  (CORNFLAKES, BISCUIT, COFFEE, COCK)\n",
      "80     0.05            (MAGGI, MILK, BREAD, JAM)\n",
      "81     0.05             (MAGGI, TEA, BREAD, JAM)\n",
      "82     0.05      (CORNFLAKES, TEA, MILK, COFFEE)\n",
      "\n",
      "[83 rows x 2 columns]\n"
     ]
    }
   ],
   "source": [
    "df1=apriori(veri,min_support=0.05,use_colnames=True)\n",
    "print(df1)\n"
   ]
  },
  {
   "cell_type": "code",
   "execution_count": 16,
   "metadata": {},
   "outputs": [
    {
     "name": "stdout",
     "output_type": "stream",
     "text": [
      "            antecedents           consequents  ...  leverage  conviction\n",
      "0             (BISCUIT)               (BREAD)  ...   -0.0275    0.816667\n",
      "1                (COCK)             (BISCUIT)  ...    0.0475    1.950000\n",
      "2          (CORNFLAKES)             (BISCUIT)  ...    0.0450    1.300000\n",
      "3           (BOURNVITA)               (BREAD)  ...    0.0200    1.400000\n",
      "4           (BOURNVITA)               (SUGER)  ...    0.0400    1.400000\n",
      "..                  ...                   ...  ...       ...         ...\n",
      "141   (TEA, CORNFLAKES)        (MILK, COFFEE)  ...    0.0450    1.900000\n",
      "142  (MILK, CORNFLAKES)         (TEA, COFFEE)  ...    0.0450    1.900000\n",
      "143         (TEA, MILK)  (CORNFLAKES, COFFEE)  ...    0.0400         inf\n",
      "144       (TEA, COFFEE)    (MILK, CORNFLAKES)  ...    0.0450         inf\n",
      "145      (MILK, COFFEE)     (TEA, CORNFLAKES)  ...    0.0450         inf\n",
      "\n",
      "[146 rows x 9 columns]\n"
     ]
    }
   ],
   "source": [
    "df2=association_rules(df1,metric=\"confidence\",min_threshold=0.5)\n",
    "print(df2)\n"
   ]
  },
  {
   "cell_type": "code",
   "execution_count": null,
   "metadata": {},
   "outputs": [],
   "source": []
  }
 ],
 "metadata": {
  "kernelspec": {
   "display_name": "Python 3",
   "language": "python",
   "name": "python3"
  },
  "language_info": {
   "codemirror_mode": {
    "name": "ipython",
    "version": 3
   },
   "file_extension": ".py",
   "mimetype": "text/x-python",
   "name": "python",
   "nbconvert_exporter": "python",
   "pygments_lexer": "ipython3",
   "version": "3.10.9 (tags/v3.10.9:1dd9be6, Dec  6 2022, 20:01:21) [MSC v.1934 64 bit (AMD64)]"
  },
  "orig_nbformat": 4,
  "vscode": {
   "interpreter": {
    "hash": "1067fa7bb3f0b4e4b28f5de722089b98d57314444f1f041e8c3fb2aeb2e39c28"
   }
  }
 },
 "nbformat": 4,
 "nbformat_minor": 2
}
