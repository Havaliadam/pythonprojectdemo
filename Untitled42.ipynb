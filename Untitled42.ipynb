{
 "cells": [
  {
   "cell_type": "code",
   "execution_count": 1,
   "id": "50c1e20f",
   "metadata": {},
   "outputs": [],
   "source": [
    "def ekstra(fonk):\n",
    "    \n",
    "    def ekstra_ozellik():\n",
    "        print(\"mükemmel sayilar...\")\n",
    "        for sayi in range(1,1001):\n",
    "            toplam=0\n",
    "            i=1\n",
    "            while(i<sayi):\n",
    "                if(sayi%i==0):\n",
    "                    toplam+=i\n",
    "                    i+=1\n",
    "                    if(toplam==sayi):\n",
    "                        print(sayi)\n",
    "                        fonk()\n",
    "                        \n",
    "                        return ekstra_ozellik\n",
    "                    \n",
    "                    \n",
    "                    @ekstra\n",
    "                    def asal_sayilar():\n",
    "                        print(\"asal sayilar\")\n",
    "                        for sayi in range(2,1001):\n",
    "                            i=2\n",
    "                            say=0\n",
    "                            while(i<sayi):\n",
    "                                if(sayi%2==0):\n",
    "                                    say+=1\n",
    "                                    if(say==0):\n",
    "                                        print(sayi)\n",
    "                                        \n",
    "                                        asal_sayilar()"
   ]
  }
 ],
 "metadata": {
  "kernelspec": {
   "display_name": "Python 3 (ipykernel)",
   "language": "python",
   "name": "python3"
  },
  "language_info": {
   "codemirror_mode": {
    "name": "ipython",
    "version": 3
   },
   "file_extension": ".py",
   "mimetype": "text/x-python",
   "name": "python",
   "nbconvert_exporter": "python",
   "pygments_lexer": "ipython3",
   "version": "3.9.12"
  }
 },
 "nbformat": 4,
 "nbformat_minor": 5
}
