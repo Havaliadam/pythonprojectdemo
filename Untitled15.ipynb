{
 "cells": [
  {
   "cell_type": "code",
   "execution_count": 1,
   "id": "81f82aae",
   "metadata": {},
   "outputs": [
    {
     "name": "stdout",
     "output_type": "stream",
     "text": [
      "11\n"
     ]
    }
   ],
   "source": [
    "a=2\n",
    "b=5\n",
    "c=4\n",
    "print(a+b+c)"
   ]
  },
  {
   "cell_type": "code",
   "execution_count": 2,
   "id": "a2607a6a",
   "metadata": {},
   "outputs": [
    {
     "name": "stdout",
     "output_type": "stream",
     "text": [
      "2\n",
      "merhaba\n"
     ]
    }
   ],
   "source": [
    "a=2\n",
    "if(a==2):\n",
    "    print(a)\n",
    "    print(\"merhaba\")"
   ]
  },
  {
   "cell_type": "code",
   "execution_count": 10,
   "id": "beac1507",
   "metadata": {},
   "outputs": [
    {
     "ename": "IndentationError",
     "evalue": "unindent does not match any outer indentation level (<tokenize>, line 4)",
     "output_type": "error",
     "traceback": [
      "\u001b[1;36m  File \u001b[1;32m<tokenize>:4\u001b[1;36m\u001b[0m\n\u001b[1;33m    print(\"merhaba\")\u001b[0m\n\u001b[1;37m    ^\u001b[0m\n\u001b[1;31mIndentationError\u001b[0m\u001b[1;31m:\u001b[0m unindent does not match any outer indentation level\n"
     ]
    }
   ],
   "source": [
    "b=2\n",
    "if(b==3):\n",
    "            print(b)\n",
    "        print(\"merhaba\")"
   ]
  },
  {
   "cell_type": "code",
   "execution_count": 11,
   "id": "499d5f04",
   "metadata": {},
   "outputs": [
    {
     "name": "stdout",
     "output_type": "stream",
     "text": [
      "yaşınızı giriniz:17\n",
      "bu mekana giremezsiniz.\n"
     ]
    }
   ],
   "source": [
    "yas=int(input(\"yaşınızı giriniz:\"))\n",
    "\n",
    "if(yas<18):\n",
    "    print(\"bu mekana giremezsiniz.\")"
   ]
  },
  {
   "cell_type": "code",
   "execution_count": 12,
   "id": "4d4ab2a2",
   "metadata": {},
   "outputs": [
    {
     "name": "stdout",
     "output_type": "stream",
     "text": [
      "yaşınızı giriniz:25\n",
      "mekana giriniz.\n"
     ]
    }
   ],
   "source": [
    "yas=int(input(\"yaşınızı giriniz:\"))\n",
    "if(yas>18):\n",
    "    print(\"mekana giriniz.\")"
   ]
  },
  {
   "cell_type": "code",
   "execution_count": 21,
   "id": "4bb935d3",
   "metadata": {},
   "outputs": [
    {
     "ename": "SyntaxError",
     "evalue": "invalid syntax (1104350231.py, line 6)",
     "output_type": "error",
     "traceback": [
      "\u001b[1;36m  Input \u001b[1;32mIn [21]\u001b[1;36m\u001b[0m\n\u001b[1;33m    else:\u001b[0m\n\u001b[1;37m    ^\u001b[0m\n\u001b[1;31mSyntaxError\u001b[0m\u001b[1;31m:\u001b[0m invalid syntax\n"
     ]
    }
   ],
   "source": [
    "yas=int(input(\"yaşınızı giriniz:\")) \n",
    "\n",
    "if(yas>18):\n",
    "\n",
    "    print(\"mekana giriniz.\")\n",
    "    else:\n",
    "        print(\"mekana girmek yasak.\")"
   ]
  },
  {
   "cell_type": "code",
   "execution_count": 22,
   "id": "67cc33d9",
   "metadata": {},
   "outputs": [
    {
     "ename": "SyntaxError",
     "evalue": "invalid syntax (1906668745.py, line 4)",
     "output_type": "error",
     "traceback": [
      "\u001b[1;36m  Input \u001b[1;32mIn [22]\u001b[1;36m\u001b[0m\n\u001b[1;33m    else:\u001b[0m\n\u001b[1;37m    ^\u001b[0m\n\u001b[1;31mSyntaxError\u001b[0m\u001b[1;31m:\u001b[0m invalid syntax\n"
     ]
    }
   ],
   "source": [
    "sayi=int(input(\"sayi:\"))\n",
    "if(sayi<0):\n",
    "    print(\"negatif sayi.\")\n",
    "    else:\n",
    "        print(\"pozitif sayi.\")"
   ]
  },
  {
   "cell_type": "code",
   "execution_count": null,
   "id": "f9481658",
   "metadata": {},
   "outputs": [],
   "source": []
  }
 ],
 "metadata": {
  "kernelspec": {
   "display_name": "Python 3 (ipykernel)",
   "language": "python",
   "name": "python3"
  },
  "language_info": {
   "codemirror_mode": {
    "name": "ipython",
    "version": 3
   },
   "file_extension": ".py",
   "mimetype": "text/x-python",
   "name": "python",
   "nbconvert_exporter": "python",
   "pygments_lexer": "ipython3",
   "version": "3.9.12"
  }
 },
 "nbformat": 4,
 "nbformat_minor": 5
}
