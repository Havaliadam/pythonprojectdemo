{
 "cells": [
  {
   "cell_type": "code",
   "execution_count": 1,
   "id": "1261a646",
   "metadata": {},
   "outputs": [],
   "source": [
    "x=set()"
   ]
  },
  {
   "cell_type": "code",
   "execution_count": 2,
   "id": "dfb9659c",
   "metadata": {},
   "outputs": [
    {
     "data": {
      "text/plain": [
       "set"
      ]
     },
     "execution_count": 2,
     "metadata": {},
     "output_type": "execute_result"
    }
   ],
   "source": [
    "type(x)"
   ]
  },
  {
   "cell_type": "code",
   "execution_count": 3,
   "id": "4127c01c",
   "metadata": {},
   "outputs": [],
   "source": [
    "liste=[1,2,3,3,1,1,2,2,2]"
   ]
  },
  {
   "cell_type": "code",
   "execution_count": 4,
   "id": "04a476ed",
   "metadata": {},
   "outputs": [],
   "source": [
    "x=set(liste)"
   ]
  },
  {
   "cell_type": "code",
   "execution_count": 5,
   "id": "7eef182f",
   "metadata": {},
   "outputs": [
    {
     "data": {
      "text/plain": [
       "{1, 2, 3}"
      ]
     },
     "execution_count": 5,
     "metadata": {},
     "output_type": "execute_result"
    }
   ],
   "source": [
    "x"
   ]
  },
  {
   "cell_type": "code",
   "execution_count": 6,
   "id": "e3bb4aaf",
   "metadata": {},
   "outputs": [],
   "source": [
    "x=set(\"Python Programlama Dili\")"
   ]
  },
  {
   "cell_type": "code",
   "execution_count": 7,
   "id": "eec3596a",
   "metadata": {},
   "outputs": [
    {
     "data": {
      "text/plain": [
       "{' ', 'D', 'P', 'a', 'g', 'h', 'i', 'l', 'm', 'n', 'o', 'r', 't', 'y'}"
      ]
     },
     "execution_count": 7,
     "metadata": {},
     "output_type": "execute_result"
    }
   ],
   "source": [
    "x"
   ]
  },
  {
   "cell_type": "code",
   "execution_count": 8,
   "id": "f7b7bf08",
   "metadata": {},
   "outputs": [],
   "source": [
    "x={\"python\",\"php\",\"python\"}"
   ]
  },
  {
   "cell_type": "code",
   "execution_count": 9,
   "id": "a7559c10",
   "metadata": {},
   "outputs": [
    {
     "data": {
      "text/plain": [
       "{'php', 'python'}"
      ]
     },
     "execution_count": 9,
     "metadata": {},
     "output_type": "execute_result"
    }
   ],
   "source": [
    "x"
   ]
  },
  {
   "cell_type": "code",
   "execution_count": 10,
   "id": "8995be55",
   "metadata": {},
   "outputs": [],
   "source": [
    "x={\"python\",\"php\",\"java\",\"c\",\"javascript\"}"
   ]
  },
  {
   "cell_type": "code",
   "execution_count": 12,
   "id": "29cfffee",
   "metadata": {},
   "outputs": [
    {
     "name": "stdout",
     "output_type": "stream",
     "text": [
      "python\n",
      "java\n",
      "php\n",
      "javascript\n",
      "c\n"
     ]
    }
   ],
   "source": [
    "for i in x :\n",
    "    print(i)\n"
   ]
  },
  {
   "cell_type": "code",
   "execution_count": 13,
   "id": "d571b1c8",
   "metadata": {},
   "outputs": [
    {
     "data": {
      "text/plain": [
       "{'c', 'java', 'javascript', 'php', 'python'}"
      ]
     },
     "execution_count": 13,
     "metadata": {},
     "output_type": "execute_result"
    }
   ],
   "source": [
    "x"
   ]
  },
  {
   "cell_type": "code",
   "execution_count": 14,
   "id": "0ab40887",
   "metadata": {},
   "outputs": [
    {
     "ename": "TypeError",
     "evalue": "'set' object is not subscriptable",
     "output_type": "error",
     "traceback": [
      "\u001b[1;31m---------------------------------------------------------------------------\u001b[0m",
      "\u001b[1;31mTypeError\u001b[0m                                 Traceback (most recent call last)",
      "Input \u001b[1;32mIn [14]\u001b[0m, in \u001b[0;36m<cell line: 1>\u001b[1;34m()\u001b[0m\n\u001b[1;32m----> 1\u001b[0m \u001b[43mx\u001b[49m\u001b[43m[\u001b[49m\u001b[38;5;241;43m0\u001b[39;49m\u001b[43m]\u001b[49m\n",
      "\u001b[1;31mTypeError\u001b[0m: 'set' object is not subscriptable"
     ]
    }
   ],
   "source": [
    "x[0]"
   ]
  },
  {
   "cell_type": "code",
   "execution_count": 15,
   "id": "2d0f83ec",
   "metadata": {},
   "outputs": [
    {
     "ename": "TypeError",
     "evalue": "'set' object is not subscriptable",
     "output_type": "error",
     "traceback": [
      "\u001b[1;31m---------------------------------------------------------------------------\u001b[0m",
      "\u001b[1;31mTypeError\u001b[0m                                 Traceback (most recent call last)",
      "Input \u001b[1;32mIn [15]\u001b[0m, in \u001b[0;36m<cell line: 1>\u001b[1;34m()\u001b[0m\n\u001b[1;32m----> 1\u001b[0m \u001b[43mx\u001b[49m\u001b[43m[\u001b[49m\u001b[38;5;124;43m\"\u001b[39;49m\u001b[38;5;124;43mpython\u001b[39;49m\u001b[38;5;124;43m\"\u001b[39;49m\u001b[43m]\u001b[49m\n",
      "\u001b[1;31mTypeError\u001b[0m: 'set' object is not subscriptable"
     ]
    }
   ],
   "source": [
    "x[\"python\"]"
   ]
  },
  {
   "cell_type": "code",
   "execution_count": 16,
   "id": "79ab19f7",
   "metadata": {},
   "outputs": [
    {
     "data": {
      "text/plain": [
       "1"
      ]
     },
     "execution_count": 16,
     "metadata": {},
     "output_type": "execute_result"
    }
   ],
   "source": [
    "liste=list({1,2,3,4,5})\n",
    "liste[0]"
   ]
  },
  {
   "cell_type": "code",
   "execution_count": 17,
   "id": "454a9f8f",
   "metadata": {},
   "outputs": [],
   "source": [
    "x={1,2,3}\n"
   ]
  },
  {
   "cell_type": "code",
   "execution_count": 18,
   "id": "f3bf2bfe",
   "metadata": {},
   "outputs": [],
   "source": [
    "x.add(4)"
   ]
  },
  {
   "cell_type": "code",
   "execution_count": 19,
   "id": "e781f398",
   "metadata": {},
   "outputs": [
    {
     "data": {
      "text/plain": [
       "{1, 2, 3, 4}"
      ]
     },
     "execution_count": 19,
     "metadata": {},
     "output_type": "execute_result"
    }
   ],
   "source": [
    "x"
   ]
  },
  {
   "cell_type": "code",
   "execution_count": 20,
   "id": "b5520657",
   "metadata": {},
   "outputs": [],
   "source": [
    "x.add(4)"
   ]
  },
  {
   "cell_type": "code",
   "execution_count": 21,
   "id": "9526249d",
   "metadata": {},
   "outputs": [
    {
     "data": {
      "text/plain": [
       "{1, 2, 3, 4}"
      ]
     },
     "execution_count": 21,
     "metadata": {},
     "output_type": "execute_result"
    }
   ],
   "source": [
    "x"
   ]
  },
  {
   "cell_type": "code",
   "execution_count": 23,
   "id": "9a08382c",
   "metadata": {},
   "outputs": [],
   "source": [
    "küme1={1,2,3,10,34,100,-2}\n",
    "küme2={1,2,23,34,-1}"
   ]
  },
  {
   "cell_type": "code",
   "execution_count": 24,
   "id": "eb4d5c11",
   "metadata": {},
   "outputs": [
    {
     "data": {
      "text/plain": [
       "{-2, 3, 10, 100}"
      ]
     },
     "execution_count": 24,
     "metadata": {},
     "output_type": "execute_result"
    }
   ],
   "source": [
    "küme1.difference(küme2)"
   ]
  },
  {
   "cell_type": "code",
   "execution_count": 25,
   "id": "e80dda03",
   "metadata": {},
   "outputs": [
    {
     "data": {
      "text/plain": [
       "{-1, 23}"
      ]
     },
     "execution_count": 25,
     "metadata": {},
     "output_type": "execute_result"
    }
   ],
   "source": [
    "küme2.difference(küme1)"
   ]
  },
  {
   "cell_type": "code",
   "execution_count": 26,
   "id": "c1940bd9",
   "metadata": {},
   "outputs": [
    {
     "data": {
      "text/plain": [
       "{-2, 1, 2, 3, 10, 34, 100}"
      ]
     },
     "execution_count": 26,
     "metadata": {},
     "output_type": "execute_result"
    }
   ],
   "source": [
    "küme1"
   ]
  },
  {
   "cell_type": "code",
   "execution_count": 27,
   "id": "7e8fe27b",
   "metadata": {},
   "outputs": [
    {
     "data": {
      "text/plain": [
       "{-1, 1, 2, 23, 34}"
      ]
     },
     "execution_count": 27,
     "metadata": {},
     "output_type": "execute_result"
    }
   ],
   "source": [
    "küme2"
   ]
  },
  {
   "cell_type": "code",
   "execution_count": 28,
   "id": "6ba7fc8c",
   "metadata": {},
   "outputs": [],
   "source": [
    "küme1.difference_update(küme2)"
   ]
  },
  {
   "cell_type": "code",
   "execution_count": 29,
   "id": "68944532",
   "metadata": {},
   "outputs": [
    {
     "data": {
      "text/plain": [
       "{-2, 3, 10, 100}"
      ]
     },
     "execution_count": 29,
     "metadata": {},
     "output_type": "execute_result"
    }
   ],
   "source": [
    "küme1"
   ]
  },
  {
   "cell_type": "code",
   "execution_count": 35,
   "id": "4a28230e",
   "metadata": {},
   "outputs": [],
   "source": [
    "küme3={1,2,3,4,5,6}"
   ]
  },
  {
   "cell_type": "code",
   "execution_count": 36,
   "id": "ead0277f",
   "metadata": {},
   "outputs": [],
   "source": [
    "küme3.discard(2)"
   ]
  },
  {
   "cell_type": "code",
   "execution_count": 37,
   "id": "2df72e4d",
   "metadata": {},
   "outputs": [
    {
     "data": {
      "text/plain": [
       "{1, 3, 4, 5, 6}"
      ]
     },
     "execution_count": 37,
     "metadata": {},
     "output_type": "execute_result"
    }
   ],
   "source": [
    "küme3"
   ]
  },
  {
   "cell_type": "code",
   "execution_count": 38,
   "id": "e3cad0ec",
   "metadata": {},
   "outputs": [],
   "source": [
    "küme3.discard(10)"
   ]
  },
  {
   "cell_type": "code",
   "execution_count": 39,
   "id": "67d4f9e9",
   "metadata": {},
   "outputs": [
    {
     "data": {
      "text/plain": [
       "{1, 3, 4, 5, 6}"
      ]
     },
     "execution_count": 39,
     "metadata": {},
     "output_type": "execute_result"
    }
   ],
   "source": [
    "küme3"
   ]
  },
  {
   "cell_type": "code",
   "execution_count": 40,
   "id": "52365de9",
   "metadata": {},
   "outputs": [],
   "source": [
    "küme1={1,2,3,10,34,100,-2}\n",
    "küme2={1,2,23,34,-1}"
   ]
  },
  {
   "cell_type": "code",
   "execution_count": 41,
   "id": "3e60fe7f",
   "metadata": {},
   "outputs": [
    {
     "data": {
      "text/plain": [
       "{1, 2, 34}"
      ]
     },
     "execution_count": 41,
     "metadata": {},
     "output_type": "execute_result"
    }
   ],
   "source": [
    "küme1.intersection(küme2)"
   ]
  },
  {
   "cell_type": "code",
   "execution_count": 42,
   "id": "3acfc5ae",
   "metadata": {},
   "outputs": [],
   "source": [
    "küme1={1,2,3,10,34,100,-2}\n",
    "küme2={1,2,23,34,-1}"
   ]
  },
  {
   "cell_type": "code",
   "execution_count": 43,
   "id": "423052b1",
   "metadata": {},
   "outputs": [],
   "source": [
    "küme1.intersection_update(küme2)"
   ]
  },
  {
   "cell_type": "code",
   "execution_count": 44,
   "id": "7a781cb8",
   "metadata": {},
   "outputs": [
    {
     "data": {
      "text/plain": [
       "{1, 2, 34}"
      ]
     },
     "execution_count": 44,
     "metadata": {},
     "output_type": "execute_result"
    }
   ],
   "source": [
    "küme1"
   ]
  },
  {
   "cell_type": "code",
   "execution_count": 45,
   "id": "9b3be5db",
   "metadata": {},
   "outputs": [],
   "source": [
    "küme1={1,2,3,10,34,100,-2}\n",
    "küme2={1,2,23,34,-1}\n",
    "küme3={30,40,50}"
   ]
  },
  {
   "cell_type": "code",
   "execution_count": 46,
   "id": "a42702fe",
   "metadata": {},
   "outputs": [
    {
     "data": {
      "text/plain": [
       "False"
      ]
     },
     "execution_count": 46,
     "metadata": {},
     "output_type": "execute_result"
    }
   ],
   "source": [
    "küme1.isdisjoint(küme2)"
   ]
  },
  {
   "cell_type": "code",
   "execution_count": 47,
   "id": "143d651e",
   "metadata": {},
   "outputs": [
    {
     "data": {
      "text/plain": [
       "True"
      ]
     },
     "execution_count": 47,
     "metadata": {},
     "output_type": "execute_result"
    }
   ],
   "source": [
    "küme1.isdisjoint(küme3)"
   ]
  },
  {
   "cell_type": "code",
   "execution_count": 48,
   "id": "d7b5d657",
   "metadata": {},
   "outputs": [],
   "source": [
    "küme1={1,2,3}\n",
    "küme2={1,2,3,4}\n",
    "küme3={5,6,7}"
   ]
  },
  {
   "cell_type": "code",
   "execution_count": 49,
   "id": "88726bfa",
   "metadata": {},
   "outputs": [
    {
     "data": {
      "text/plain": [
       "True"
      ]
     },
     "execution_count": 49,
     "metadata": {},
     "output_type": "execute_result"
    }
   ],
   "source": [
    "küme1.issubset(küme2)"
   ]
  },
  {
   "cell_type": "code",
   "execution_count": 50,
   "id": "1a3b2b8a",
   "metadata": {},
   "outputs": [
    {
     "data": {
      "text/plain": [
       "False"
      ]
     },
     "execution_count": 50,
     "metadata": {},
     "output_type": "execute_result"
    }
   ],
   "source": [
    "küme1.issubset(küme3)"
   ]
  },
  {
   "cell_type": "code",
   "execution_count": 51,
   "id": "d2b7de59",
   "metadata": {},
   "outputs": [],
   "source": [
    "küme1={1,2,3,10,34,100,-2}\n",
    "küme2={1,2,23,34,-1}"
   ]
  },
  {
   "cell_type": "code",
   "execution_count": 52,
   "id": "dd4a4d1f",
   "metadata": {},
   "outputs": [
    {
     "data": {
      "text/plain": [
       "{-2, -1, 1, 2, 3, 10, 23, 34, 100}"
      ]
     },
     "execution_count": 52,
     "metadata": {},
     "output_type": "execute_result"
    }
   ],
   "source": [
    "küme1.union(küme2)"
   ]
  },
  {
   "cell_type": "code",
   "execution_count": 53,
   "id": "b4cb2d9e",
   "metadata": {},
   "outputs": [],
   "source": [
    "küme1={1,2,3,10,34,100,-2}\n",
    "küme2={1,2,23,34,-1}\n",
    "\n",
    "küme1.update(küme2)"
   ]
  },
  {
   "cell_type": "code",
   "execution_count": 54,
   "id": "83044dde",
   "metadata": {},
   "outputs": [
    {
     "data": {
      "text/plain": [
       "{-2, -1, 1, 2, 3, 10, 23, 34, 100}"
      ]
     },
     "execution_count": 54,
     "metadata": {},
     "output_type": "execute_result"
    }
   ],
   "source": [
    "küme1"
   ]
  },
  {
   "cell_type": "code",
   "execution_count": null,
   "id": "12d3845c",
   "metadata": {},
   "outputs": [],
   "source": []
  }
 ],
 "metadata": {
  "kernelspec": {
   "display_name": "Python 3 (ipykernel)",
   "language": "python",
   "name": "python3"
  },
  "language_info": {
   "codemirror_mode": {
    "name": "ipython",
    "version": 3
   },
   "file_extension": ".py",
   "mimetype": "text/x-python",
   "name": "python",
   "nbconvert_exporter": "python",
   "pygments_lexer": "ipython3",
   "version": "3.9.12"
  }
 },
 "nbformat": 4,
 "nbformat_minor": 5
}
