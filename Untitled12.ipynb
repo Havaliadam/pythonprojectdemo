{
 "cells": [
  {
   "cell_type": "code",
   "execution_count": 14,
   "id": "e98d8222",
   "metadata": {},
   "outputs": [
    {
     "name": "stdout",
     "output_type": "stream",
     "text": [
      "erkek:1.80\n",
      "kilo :84\n"
     ]
    },
    {
     "ename": "NameError",
     "evalue": "name 'erkek' is not defined",
     "output_type": "error",
     "traceback": [
      "\u001b[1;31m---------------------------------------------------------------------------\u001b[0m",
      "\u001b[1;31mNameError\u001b[0m                                 Traceback (most recent call last)",
      "Input \u001b[1;32mIn [14]\u001b[0m, in \u001b[0;36m<cell line: 4>\u001b[1;34m()\u001b[0m\n\u001b[0;32m      1\u001b[0m boy\u001b[38;5;241m=\u001b[39m\u001b[38;5;28mfloat\u001b[39m(\u001b[38;5;28minput\u001b[39m(\u001b[38;5;124m\"\u001b[39m\u001b[38;5;124merkek:\u001b[39m\u001b[38;5;124m\"\u001b[39m))\n\u001b[0;32m      2\u001b[0m kilo\u001b[38;5;241m=\u001b[39m\u001b[38;5;28mfloat\u001b[39m(\u001b[38;5;28minput\u001b[39m(\u001b[38;5;124m\"\u001b[39m\u001b[38;5;124mkilo :\u001b[39m\u001b[38;5;124m\"\u001b[39m))\n\u001b[1;32m----> 4\u001b[0m \u001b[38;5;28mprint\u001b[39m(\u001b[38;5;124m\"\u001b[39m\u001b[38;5;124mbeden kitle endeski:\u001b[39m\u001b[38;5;124m\"\u001b[39m,kilo\u001b[38;5;241m/\u001b[39m(\u001b[43merkek\u001b[49m\u001b[38;5;241m*\u001b[39m\u001b[38;5;241m*\u001b[39m\u001b[38;5;241m2\u001b[39m))\n",
      "\u001b[1;31mNameError\u001b[0m: name 'erkek' is not defined"
     ]
    }
   ],
   "source": [
    "\n",
    "boy=float(input(\"erkek:\"))\n",
    "kilo=float(input(\"kilo :\"))\n",
    "\n",
    "print(\"beden kitle endeski:\",kilo/(erkek**2))"
   ]
  },
  {
   "cell_type": "code",
   "execution_count": 16,
   "id": "a82a6d5b",
   "metadata": {},
   "outputs": [
    {
     "ename": "ValueError",
     "evalue": "could not convert string to float: 'kilometrede yakan miktar:'",
     "output_type": "error",
     "traceback": [
      "\u001b[1;31m---------------------------------------------------------------------------\u001b[0m",
      "\u001b[1;31mValueError\u001b[0m                                Traceback (most recent call last)",
      "Input \u001b[1;32mIn [16]\u001b[0m, in \u001b[0;36m<cell line: 1>\u001b[1;34m()\u001b[0m\n\u001b[1;32m----> 1\u001b[0m yakan_miktar\u001b[38;5;241m=\u001b[39m\u001b[38;5;28;43mfloat\u001b[39;49m\u001b[43m(\u001b[49m\u001b[38;5;124;43m\"\u001b[39;49m\u001b[38;5;124;43mkilometrede yakan miktar:\u001b[39;49m\u001b[38;5;124;43m\"\u001b[39;49m\u001b[43m)\u001b[49m\n\u001b[0;32m      2\u001b[0m kilometre\u001b[38;5;241m=\u001b[39m\u001b[38;5;28mint\u001b[39m(\u001b[38;5;28minput\u001b[39m(\u001b[38;5;124m\"\u001b[39m\u001b[38;5;124mkaç km yol alındı:\u001b[39m\u001b[38;5;124m\"\u001b[39m))\n\u001b[0;32m      3\u001b[0m \u001b[38;5;28mprint\u001b[39m(\u001b[38;5;124m\"\u001b[39m\u001b[38;5;124mtutar:\u001b[39m\u001b[38;5;132;01m{}\u001b[39;00m\u001b[38;5;124m tl\u001b[39m\u001b[38;5;124m\"\u001b[39m\u001b[38;5;241m.\u001b[39mformat(yakan_miktar\u001b[38;5;241m*\u001b[39mkilometre))\n",
      "\u001b[1;31mValueError\u001b[0m: could not convert string to float: 'kilometrede yakan miktar:'"
     ]
    }
   ],
   "source": [
    "yakan_miktar=float(\"kilometrede yakan miktar:\")\n",
    "kilometre=int(input(\"kaç km yol alındı:\"))\n",
    "print(\"tutar:{} tl\".format(yakan_miktar*kilometre))"
   ]
  },
  {
   "cell_type": "code",
   "execution_count": 17,
   "id": "ba2068ac",
   "metadata": {},
   "outputs": [
    {
     "name": "stdout",
     "output_type": "stream",
     "text": [
      "ad:ayhan\n",
      "soyad:çelik\n",
      "numara:1234\n",
      "\n",
      "bilgiler...\n",
      "\n",
      "ayhan\n",
      "çelik\n",
      "1234\n"
     ]
    }
   ],
   "source": [
    "ad=input(\"ad:\")\n",
    "soyad=input(\"soyad:\")\n",
    "numara=input(\"numara:\")\n",
    "print(\"\\nbilgiler...\\n\")\n",
    "print(\"{}\\n{}\\n{}\".format(ad,soyad,numara))"
   ]
  },
  {
   "cell_type": "code",
   "execution_count": 18,
   "id": "e8cf9bc7",
   "metadata": {},
   "outputs": [
    {
     "name": "stdout",
     "output_type": "stream",
     "text": [
      "a:3\n",
      "b:4\n",
      "değiştirmeden önce  değerler\n",
      "a:3b:\n",
      "değiştirten sonra değerler\n",
      "a 4b:\n"
     ]
    }
   ],
   "source": [
    "a=input(\"a:\")\n",
    "b=input(\"b:\")\n",
    "print(\"değiştirmeden önce  değerler\\na:{}b:\".format(a,b))\n",
    "a,b=b,a\n",
    "print(\"değiştirten sonra değerler\\na {}b:\".format(a,b))"
   ]
  },
  {
   "cell_type": "code",
   "execution_count": 19,
   "id": "3ad20bba",
   "metadata": {},
   "outputs": [
    {
     "name": "stdout",
     "output_type": "stream",
     "text": [
      "a:5\n",
      "b:7\n",
      "hipotenüs 8.602325267042627\n"
     ]
    }
   ],
   "source": [
    "a=int(input(\"a:\"))\n",
    "b=int(input(\"b:\"))\n",
    "c=(a**2+b**2)**0.5\n",
    "print(\"hipotenüs\",c)\n"
   ]
  },
  {
   "cell_type": "code",
   "execution_count": null,
   "id": "983023ac",
   "metadata": {},
   "outputs": [],
   "source": []
  }
 ],
 "metadata": {
  "kernelspec": {
   "display_name": "Python 3 (ipykernel)",
   "language": "python",
   "name": "python3"
  },
  "language_info": {
   "codemirror_mode": {
    "name": "ipython",
    "version": 3
   },
   "file_extension": ".py",
   "mimetype": "text/x-python",
   "name": "python",
   "nbconvert_exporter": "python",
   "pygments_lexer": "ipython3",
   "version": "3.9.12"
  }
 },
 "nbformat": 4,
 "nbformat_minor": 5
}
