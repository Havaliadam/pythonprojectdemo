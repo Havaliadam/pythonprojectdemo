{
 "cells": [
  {
   "cell_type": "code",
   "execution_count": 5,
   "id": "44457c3b",
   "metadata": {},
   "outputs": [],
   "source": [
    "liste=[1,2,3,4]\n",
    "liste.append(5)"
   ]
  },
  {
   "cell_type": "code",
   "execution_count": 6,
   "id": "35723911",
   "metadata": {},
   "outputs": [
    {
     "data": {
      "text/plain": [
       "[1, 2, 3, 4, 5]"
      ]
     },
     "execution_count": 6,
     "metadata": {},
     "output_type": "execute_result"
    }
   ],
   "source": [
    "liste"
   ]
  },
  {
   "cell_type": "code",
   "execution_count": 9,
   "id": "eda92e0b",
   "metadata": {},
   "outputs": [
    {
     "name": "stdout",
     "output_type": "stream",
     "text": [
      "[1]\n",
      "[1, 2]\n",
      "[1, 2, 3]\n",
      "[1, 2, 3, 4]\n",
      "[1, 2, 3, 4, 5]\n"
     ]
    }
   ],
   "source": [
    "liste1=[1,2,3,4,5]\n",
    "\n",
    "liste2=list()\n",
    "\n",
    "for i in liste1:\n",
    "    liste2.append(i)\n",
    "    print(liste2)"
   ]
  },
  {
   "cell_type": "code",
   "execution_count": 10,
   "id": "a1e1bec8",
   "metadata": {},
   "outputs": [
    {
     "name": "stdout",
     "output_type": "stream",
     "text": [
      "[1, 2, 3, 4, 5]\n"
     ]
    }
   ],
   "source": [
    "liste3=[1,2,3,4,5]\n",
    "\n",
    "liste4=[i for i in liste3]\n",
    "print(liste4)"
   ]
  },
  {
   "cell_type": "code",
   "execution_count": 11,
   "id": "50cbf604",
   "metadata": {},
   "outputs": [
    {
     "name": "stdout",
     "output_type": "stream",
     "text": [
      "[2, 4, 6, 8, 10]\n"
     ]
    }
   ],
   "source": [
    "liste3=[1,2,3,4,5]\n",
    "\n",
    "liste4=[i*2\n",
    "        for i in liste3]\n",
    "print(liste4)"
   ]
  },
  {
   "cell_type": "code",
   "execution_count": 12,
   "id": "eca9ef50",
   "metadata": {},
   "outputs": [
    {
     "name": "stdout",
     "output_type": "stream",
     "text": [
      "[2, 12, 30]\n"
     ]
    }
   ],
   "source": [
    "liste1=[(1,2),(3,4),(5,6)]\n",
    "liste2=[i*j for(i,j)in liste1]\n",
    "print(liste2)"
   ]
  },
  {
   "cell_type": "code",
   "execution_count": 13,
   "id": "55e4a5c9",
   "metadata": {},
   "outputs": [
    {
     "name": "stdout",
     "output_type": "stream",
     "text": [
      "[1, 2, 3, 5, 6, 7, 8, 10]\n"
     ]
    }
   ],
   "source": [
    "liste1=[1,2,3,4,5,6,7,8,9,10]\n",
    "liste2=[i for i in liste1 if not(i==4 or i==9)]\n",
    "print(liste2)"
   ]
  },
  {
   "cell_type": "code",
   "execution_count": 14,
   "id": "90aecfb8",
   "metadata": {},
   "outputs": [
    {
     "name": "stdout",
     "output_type": "stream",
     "text": [
      "['ppp', 'yyy', 'ttt', 'hhh', 'ooo', 'nnn']\n"
     ]
    }
   ],
   "source": [
    "s=\"python\"\n",
    "liste=[i*3 for i in s]\n",
    "print(liste)"
   ]
  },
  {
   "cell_type": "code",
   "execution_count": 15,
   "id": "c13b8f7f",
   "metadata": {},
   "outputs": [
    {
     "name": "stdout",
     "output_type": "stream",
     "text": [
      "[1, 2, 3]\n",
      "[4, 5, 6, 7, 8]\n",
      "[9, 10, 11, 12, 13, 14, 15]\n"
     ]
    }
   ],
   "source": [
    "liste = [[1,2,3],[4,5,6,7,8],[9,10,11,12,13,14,15]]\n",
    "liste2 = list()\n",
    "for i in liste:\n",
    "    print(i) ## Buradaki i değeri de aslında bir liste."
   ]
  },
  {
   "cell_type": "code",
   "execution_count": 16,
   "id": "4dc61f42",
   "metadata": {},
   "outputs": [
    {
     "name": "stdout",
     "output_type": "stream",
     "text": [
      "x: 1\n",
      "x: 2\n",
      "x: 3\n",
      "x: 4\n",
      "x: 5\n",
      "x: 6\n",
      "x: 7\n",
      "x: 8\n",
      "x: 9\n",
      "x: 10\n",
      "x: 11\n",
      "x: 12\n",
      "x: 13\n",
      "x: 14\n",
      "x: 15\n",
      "[1, 2, 3, 4, 5, 6, 7, 8, 9, 10, 11, 12, 13, 14, 15]\n"
     ]
    }
   ],
   "source": [
    "liste = [[1,2,3],[4,5,6,7,8],[9,10,11,12,13,14,15]]\n",
    "liste2 = list()\n",
    "for i in liste:\n",
    "    for x in i:\n",
    "        print(\"x:\",x)\n",
    "        liste2.append(x)\n",
    "print(liste2)\n",
    "    "
   ]
  },
  {
   "cell_type": "code",
   "execution_count": 17,
   "id": "edd42b12",
   "metadata": {},
   "outputs": [
    {
     "name": "stdout",
     "output_type": "stream",
     "text": [
      "[1, 2, 3, 4, 5, 6, 7, 8, 9, 10, 11, 12, 13, 14, 15]\n"
     ]
    }
   ],
   "source": [
    "liste = [[1,2,3],[4,5,6,7,8],[9,10,11,12,13,14,15]]\n",
    "liste2 = [x for i in liste for x in i] # Biraz karmaşık\n",
    "print(liste2)"
   ]
  },
  {
   "cell_type": "code",
   "execution_count": null,
   "id": "dade7472",
   "metadata": {},
   "outputs": [],
   "source": []
  }
 ],
 "metadata": {
  "kernelspec": {
   "display_name": "Python 3 (ipykernel)",
   "language": "python",
   "name": "python3"
  },
  "language_info": {
   "codemirror_mode": {
    "name": "ipython",
    "version": 3
   },
   "file_extension": ".py",
   "mimetype": "text/x-python",
   "name": "python",
   "nbconvert_exporter": "python",
   "pygments_lexer": "ipython3",
   "version": "3.9.12"
  }
 },
 "nbformat": 4,
 "nbformat_minor": 5
}
